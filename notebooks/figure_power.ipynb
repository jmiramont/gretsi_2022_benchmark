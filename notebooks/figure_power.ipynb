{
 "cells": [
  {
   "cell_type": "code",
   "execution_count": 6,
   "metadata": {},
   "outputs": [],
   "source": [
    "from benchmark_demo.Benchmark import Benchmark\n",
    "from benchmark_demo.ResultsInterpreter import ResultsInterpreter\n",
    "import pickle\n",
    "from matplotlib import pyplot as plt\n",
    "import numpy as np\n",
    "import scipy.stats as spst\n",
    "import matplotlib.colors as mcolors"
   ]
  },
  {
   "cell_type": "code",
   "execution_count": 7,
   "metadata": {},
   "outputs": [],
   "source": [
    "def clopper_pearson(k, n, alpha):\n",
    "    \"\"\"\n",
    "    Clopper-Pearson confidence interval for Bernoulli parameter\n",
    "    alpha: confidence level\n",
    "    k: number of successes\n",
    "    n: number of observations\n",
    "    \"\"\"\n",
    "    lb = spst.beta.ppf(alpha/2, k, n-k+1)\n",
    "    ub = spst.beta.ppf(1 - alpha/2, k+1, n-k)\n",
    "    return lb, ub\n",
    "\n",
    "def plot_power_plots(data, radius, alpha = 0.05, ax = None , cfact = 1):\n",
    "    dset_aux = list(data.items())[0][1]\n",
    "    repetitions = dset_aux.shape[0]\n",
    "    bonf_correction = len(radius)*len(data)*cfact\n",
    "\n",
    "    c = [i for k,i in enumerate(mcolors.TABLEAU_COLORS) if k<len(data)]\n",
    "    c = ['tab:blue', 'tab:green']\n",
    "\n",
    "    for i, label in enumerate(data):\n",
    "        dset = data[label]\n",
    "        beta = np.mean(dset, axis=0)\n",
    "        k1 = (beta*repetitions).astype(int)\n",
    "\n",
    "        ax.plot(radius, beta, '--o', color = c[i], markersize=3, linewidth=2.25) #\n",
    "        ax.annotate(''.join(('$',label[0],'$')), (0.3, beta[0]-0.1), color = c[i], fontsize = 14) \n",
    "\n",
    "        error_beta = np.array(clopper_pearson(k1, repetitions, alpha/bonf_correction)) # Bonferroni correction here!\n",
    "        yerr1 = np.abs(error_beta - beta)\n",
    "        yerr1[np.isnan(yerr1)] = 0\n",
    "        (_, caps, _) = ax.errorbar(radius, beta, yerr=yerr1, color = c[i], fmt='.', markersize=6, elinewidth=1, capsize=3) # color = c[0],\n",
    "        for cap in caps:\n",
    "            cap.set_markeredgewidth(1)\n",
    "\n",
    "        ax.set_ylim((-0.1,1.1))\n",
    "        ax.set_xlim((0, 2.5))\n",
    "        ax.set_ylabel('Test Power', fontsize = 14)\n",
    "        ax.set_xlabel('$r_{max}$', fontsize = 14)\n",
    "        ax.set_yticks((0.0, 0.25, 0.5, 0.75, 1.0))\n",
    "        ax.set_yticklabels(('0.0',None,'0.5',None,'1.0'))\n"
   ]
  },
  {
   "cell_type": "code",
   "execution_count": 8,
   "metadata": {},
   "outputs": [
    {
     "name": "stdout",
     "output_type": "stream",
     "text": [
      "True\n"
     ]
    },
    {
     "name": "stderr",
     "output_type": "stream",
     "text": [
      "C:\\Users\\juan_\\Nextcloud\\Miramont_Juan\\python_code\\gretsi_2022_benchmark\\src\\benchmark_demo\\ResultsInterpreter.py:57: FutureWarning: In a future version of pandas all arguments of DataFrame.drop except for the argument 'labels' will be keyword-only.\n",
      "  df3 = df3.drop('level_1', 1)\n"
     ]
    }
   ],
   "source": [
    "filename = None\n",
    "if filename is None:\n",
    "    filename = '../results/last_benchmark_detection'\n",
    "\n",
    "with open(filename + '.pkl', 'rb') as f:\n",
    "    benchmark = pickle.load(f)  \n",
    "\n",
    "print(isinstance(benchmark,Benchmark))\n",
    "# print(benchmark.methods_ids)\n",
    "# df = benchmark.get_results_as_df()\n",
    "# print(df)\n",
    "\n",
    "results_interpreter = ResultsInterpreter(benchmark)\n",
    "df = results_interpreter.rearrange_data_frame()\n",
    "radius = [0.5, 1.0, 2.0]\n",
    "SNRin = [10, 20]\n",
    "\n",
    "# Parameters used in the simulation.\n",
    "parameters = [  {'statistic':'L',   'pnorm': 2,         'rmax': 0.5},\n",
    "                {'statistic':'L',   'pnorm': 2,         'rmax': 1.0},\n",
    "                {'statistic':'L',   'pnorm': 2,         'rmax': 2.0},\n",
    "                {'statistic':'Frs', 'pnorm': 2,         'rmax': 0.5},\n",
    "                {'statistic':'Frs', 'pnorm': 2,         'rmax': 1.0},\n",
    "                {'statistic':'Frs', 'pnorm': 2,         'rmax': 2.0},\n",
    "                {'statistic':'L',   'pnorm': np.inf,    'rmax': 0.5},\n",
    "                {'statistic':'L',   'pnorm': np.inf,    'rmax': 1.0},\n",
    "                {'statistic':'L',   'pnorm': np.inf,    'rmax': 2.0},\n",
    "                {'statistic':'Frs', 'pnorm': np.inf,    'rmax': 0.5},\n",
    "                {'statistic':'Frs', 'pnorm': np.inf,    'rmax': 1.0},\n",
    "                {'statistic':'Frs', 'pnorm': np.inf,    'rmax': 2.0},]"
   ]
  },
  {
   "cell_type": "code",
   "execution_count": 10,
   "metadata": {},
   "outputs": [
    {
     "data": {
      "image/png": "[encoded data removed]",
      "text/plain": [
       "<Figure size 216x108 with 1 Axes>"
      ]
     },
     "metadata": {
      "needs_background": "light"
     },
     "output_type": "display_data"
    },
    {
     "data": {
      "image/png": "[encoded data removed]",
      "text/plain": [
       "<Figure size 216x108 with 1 Axes>"
      ]
     },
     "metadata": {
      "needs_background": "light"
     },
     "output_type": "display_data"
    }
   ],
   "source": [
    "data = dict()\n",
    "norm = 2 # np.inf\n",
    "\n",
    "for snr in SNRin:\n",
    "    for stat in ('L','Frs'):\n",
    "        dset = list()\n",
    "        params = [i for i in parameters if (i['statistic']==stat and i['pnorm']==norm)]\n",
    "        for i in params:\n",
    "            df_aux = df[(df['Parameter']==str(i)) & (df['SNRin']==snr)]\n",
    "            aux = df_aux.iloc[:,-1].to_numpy()\n",
    "            # print(aux.shape)\n",
    "            dset.append(df_aux.iloc[:,-1].to_list())\n",
    "            \n",
    "        dset = np.array(dset).T\n",
    "        data[stat] = dset\n",
    "\n",
    "    # print(data)\n",
    "\n",
    "    fig, ax = plt.subplots(1,1)\n",
    "    plot_power_plots(data, radius, alpha = 0.05, ax = ax, cfact = 2)\n",
    "    if norm == 2:\n",
    "        ax.set_title('SNRin={}dB - 2-norm'.format(snr))\n",
    "    if norm == np.inf:\n",
    "        ax.set_title('SNRin={}dB - $\\infty$-norm'.format(snr))\n",
    "    plt.grid(True, linewidth = 0.25)\n",
    "    fig.set_size_inches((3,1.5))\n",
    "    plt.show()\n",
    "    # fig.savefig('results/figures/plot_power_'+ str(snr) +'_'+ str(norm) +'.pdf', bbox_inches='tight')# , format='svg')"
   ]
  }
 ],
 "metadata": {
  "kernelspec": {
   "display_name": "Python 3.9.8 ('.venv': poetry)",
   "language": "python",
   "name": "python3"
  },
  "language_info": {
   "codemirror_mode": {
    "name": "ipython",
    "version": 3
   },
   "file_extension": ".py",
   "mimetype": "text/x-python",
   "name": "python",
   "nbconvert_exporter": "python",
   "pygments_lexer": "ipython3",
   "version": "3.9.8"
  },
  "orig_nbformat": 4,
  "vscode": {
   "interpreter": {
    "hash": "6bab47fed305108d34ebec15ff8840bd8a1b48e1f5069155dd56d42f5e2b43c6"
   }
  }
 },
 "nbformat": 4,
 "nbformat_minor": 2
}
